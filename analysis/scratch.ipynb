{
 "cells": [
  {
   "cell_type": "markdown",
   "id": "48bff603",
   "metadata": {},
   "source": [
    "### script for testing"
   ]
  },
  {
   "cell_type": "code",
   "execution_count": null,
   "id": "03bace2b",
   "metadata": {},
   "outputs": [],
   "source": [
    "import mne\n",
    "import sys\n",
    "import os\n",
    "from pathlib import Path\n",
    "import pickle\n",
    "import numpy as np\n",
    "import pandas as pd\n",
    "import seaborn as sns\n",
    "\n",
    "# project PATH\n",
    "dataset_name = 'sz_meditation_eeg'\n",
    "project_path = Path('/scratch/'+dataset_name)\n",
    "repo_path    = Path('/scratch/repo_'+dataset_name)\n",
    "\n",
    "sys.path.append(str(project_path))\n",
    "\n",
    "data_path     = project_path / 'data'\n",
    "eeg_data_path = data_path / 'tACS_set'\n",
    "output_dir    = data_path / 'tACS_out'\n",
    "#read clinical data"
   ]
  },
  {
   "cell_type": "code",
   "execution_count": null,
   "id": "6c3edbfd",
   "metadata": {},
   "outputs": [],
   "source": [
    "## to test"
   ]
  },
  {
   "cell_type": "code",
   "execution_count": null,
   "id": "6ea91b3b",
   "metadata": {},
   "outputs": [],
   "source": []
  }
 ],
 "metadata": {
  "kernelspec": {
   "display_name": "Python 3 (ipykernel)",
   "language": "python",
   "name": "python3"
  },
  "language_info": {
   "codemirror_mode": {
    "name": "ipython",
    "version": 3
   },
   "file_extension": ".py",
   "mimetype": "text/x-python",
   "name": "python",
   "nbconvert_exporter": "python",
   "pygments_lexer": "ipython3",
   "version": "3.9.12"
  }
 },
 "nbformat": 4,
 "nbformat_minor": 5
}
